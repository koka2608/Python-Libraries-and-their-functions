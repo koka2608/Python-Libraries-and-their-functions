{
 "cells": [
  {
   "cell_type": "markdown",
   "id": "b78cfd4e",
   "metadata": {},
   "source": [
    "# Numpy Library Introduction\n"
   ]
  },
  {
   "cell_type": "markdown",
   "id": "f8cf489c",
   "metadata": {},
   "source": [
    "NumPy, short for Numerical Python, has long been a cornerstone of numerical computing\n",
    "In Python. It provides the data structures, algorithms, and library glue needed\n",
    "For most scientific applications involving numerical data in Python. NumPy contains,\n",
    "among other things:\n",
    "\n"
   ]
  },
  {
   "cell_type": "markdown",
   "id": "d21e3871",
   "metadata": {},
   "source": [
    "# Numpy Arrays"
   ]
  },
  {
   "cell_type": "code",
   "execution_count": 2,
   "id": "c3b01a1d",
   "metadata": {},
   "outputs": [],
   "source": [
    "import numpy as np\n",
    "\n",
    "my_list = [1,2,3]"
   ]
  },
  {
   "cell_type": "code",
   "execution_count": 3,
   "id": "7af8ed29",
   "metadata": {},
   "outputs": [
    {
     "data": {
      "text/plain": [
       "array([1, 2, 3])"
      ]
     },
     "execution_count": 3,
     "metadata": {},
     "output_type": "execute_result"
    }
   ],
   "source": [
    "#creating a basic python list and then assigning it to the array() function in numpy\n",
    "#this is what converts the list into an array\n",
    "\n",
    "#This is casting a python list in the array\n",
    "arr = np.array(my_list)\n",
    "\n",
    "arr"
   ]
  },
  {
   "cell_type": "code",
   "execution_count": 4,
   "id": "6a43a941",
   "metadata": {},
   "outputs": [
    {
     "data": {
      "text/plain": [
       "[[1, 2, 3], [4567, 89, 1234], [368, 73, 57]]"
      ]
     },
     "execution_count": 4,
     "metadata": {},
     "output_type": "execute_result"
    }
   ],
   "source": [
    "# Casting list of lists\n",
    "#This is a python in built display\n",
    "\n",
    "\n",
    "mat = [[1,2,3],[4567,89,1234],[368,73,57]]\n",
    "mat"
   ]
  },
  {
   "cell_type": "code",
   "execution_count": 5,
   "id": "6e660ac3",
   "metadata": {},
   "outputs": [
    {
     "data": {
      "text/plain": [
       "array([[   1,    2,    3],\n",
       "       [4567,   89, 1234],\n",
       "       [ 368,   73,   57]])"
      ]
     },
     "execution_count": 5,
     "metadata": {},
     "output_type": "execute_result"
    }
   ],
   "source": [
    "#casting this list of list to numpy array\n",
    "#Numpy built in\n",
    "\n",
    "np.array(mat)\n",
    "\n",
    "#the o/p will be in the form of  2D array"
   ]
  },
  {
   "cell_type": "code",
   "execution_count": 6,
   "id": "919e4948",
   "metadata": {},
   "outputs": [
    {
     "data": {
      "text/plain": [
       "array([ 0,  2,  4,  6,  8, 10, 12, 14, 16, 18])"
      ]
     },
     "execution_count": 6,
     "metadata": {},
     "output_type": "execute_result"
    }
   ],
   "source": [
    "#using numpy's own generation method to actually create arrays\n",
    "\n",
    "#arange() is similiar to python's range() function\n",
    "\n",
    "#arange(start, stop, step)    note: stop is not including\n",
    "\n",
    "np.arange(0, 20, 2)"
   ]
  },
  {
   "cell_type": "code",
   "execution_count": 7,
   "id": "d0a4b53f",
   "metadata": {},
   "outputs": [
    {
     "data": {
      "text/plain": [
       "array([[0., 0., 0.],\n",
       "       [0., 0., 0.],\n",
       "       [0., 0., 0.]])"
      ]
     },
     "execution_count": 7,
     "metadata": {},
     "output_type": "execute_result"
    }
   ],
   "source": [
    "#To get specific arrays\n",
    "\n",
    "np.zeros((3,3)) # for 2-D array"
   ]
  },
  {
   "cell_type": "code",
   "execution_count": 8,
   "id": "df621818",
   "metadata": {},
   "outputs": [
    {
     "data": {
      "text/plain": [
       "array([1., 1., 1.])"
      ]
     },
     "execution_count": 8,
     "metadata": {},
     "output_type": "execute_result"
    }
   ],
   "source": [
    "# need to pass a tuple and not a list\n",
    "np.ones(3)"
   ]
  },
  {
   "cell_type": "code",
   "execution_count": 9,
   "id": "6bd6e533",
   "metadata": {},
   "outputs": [
    {
     "data": {
      "text/plain": [
       "array([[1., 1., 1.],\n",
       "       [1., 1., 1.]])"
      ]
     },
     "execution_count": 9,
     "metadata": {},
     "output_type": "execute_result"
    }
   ],
   "source": [
    "np.ones((2,3))"
   ]
  },
  {
   "cell_type": "code",
   "execution_count": 10,
   "id": "c1f3fd95",
   "metadata": {},
   "outputs": [
    {
     "data": {
      "text/plain": [
       "array([0.        , 0.55555556, 1.11111111, 1.66666667, 2.22222222,\n",
       "       2.77777778, 3.33333333, 3.88888889, 4.44444444, 5.        ])"
      ]
     },
     "execution_count": 10,
     "metadata": {},
     "output_type": "execute_result"
    }
   ],
   "source": [
    "# linspace() \n",
    "# this function of np allows you to get evenly spaced numbers between a certain range\n",
    "\n",
    "np.linspace(0,5,10)"
   ]
  },
  {
   "cell_type": "code",
   "execution_count": 11,
   "id": "77687903",
   "metadata": {},
   "outputs": [
    {
     "data": {
      "text/plain": [
       "array([[1., 0., 0.],\n",
       "       [0., 1., 0.],\n",
       "       [0., 0., 1.]])"
      ]
     },
     "execution_count": 11,
     "metadata": {},
     "output_type": "execute_result"
    }
   ],
   "source": [
    "#creating identity matrix using numpy\n",
    "\n",
    "np.eye(3)"
   ]
  },
  {
   "cell_type": "code",
   "execution_count": 12,
   "id": "9c8b9c59",
   "metadata": {},
   "outputs": [
    {
     "data": {
      "text/plain": [
       "array([0.92894525, 0.01270043, 0.26869953, 0.64090624, 0.05312636])"
      ]
     },
     "execution_count": 12,
     "metadata": {},
     "output_type": "execute_result"
    }
   ],
   "source": [
    "# Creating an array of random numbers\n",
    "\n",
    "\n",
    "np.random.rand(5)"
   ]
  },
  {
   "cell_type": "code",
   "execution_count": 13,
   "id": "a5a0284b",
   "metadata": {},
   "outputs": [
    {
     "data": {
      "text/plain": [
       "array([[0.20864794, 0.92090524, 0.45034983, 0.74946777, 0.55063196],\n",
       "       [0.82613011, 0.02873657, 0.39009163, 0.22650175, 0.88194238],\n",
       "       [0.00405451, 0.72697154, 0.1761314 , 0.56511196, 0.75858117]])"
      ]
     },
     "execution_count": 13,
     "metadata": {},
     "output_type": "execute_result"
    }
   ],
   "source": [
    "#Incase you want a matrix just pass in the integers as arguments not in the form of tuples\n",
    "\n",
    "#The function rand() will display numbers from a uniform distribution\n",
    "\n",
    "#random.rand(columns, rows)\n",
    "\n",
    "np.random.rand(3,5)"
   ]
  },
  {
   "cell_type": "code",
   "execution_count": 14,
   "id": "2e17b9a1",
   "metadata": {},
   "outputs": [
    {
     "data": {
      "text/plain": [
       "array([[-0.03089365,  0.87793391, -1.21348238,  0.33649926,  0.82181334],\n",
       "       [-0.53907913, -0.12391064,  0.73624732, -0.17134337,  0.062954  ]])"
      ]
     },
     "execution_count": 14,
     "metadata": {},
     "output_type": "execute_result"
    }
   ],
   "source": [
    "#To display no's from Standard Normal Distribution/Gaussion distribution\n",
    "\n",
    "np.random.randn(2,5)"
   ]
  },
  {
   "cell_type": "code",
   "execution_count": 20,
   "id": "27a323e5",
   "metadata": {},
   "outputs": [
    {
     "data": {
      "text/plain": [
       "array([90, 47, 91, 46, 25, 90, 90, 83, 13, 53, 83, 35, 17, 89, 11, 29, 97,\n",
       "        9, 27, 89, 70,  0, 45, 73, 72])"
      ]
     },
     "execution_count": 20,
     "metadata": {},
     "output_type": "execute_result"
    }
   ],
   "source": [
    "# To generate random integers between any 2 no's use randint()\n",
    "\n",
    "ranarr  = np.random.randint(0,100,25)\n",
    "ranarr"
   ]
  },
  {
   "cell_type": "code",
   "execution_count": 21,
   "id": "5f4962cf",
   "metadata": {},
   "outputs": [
    {
     "data": {
      "text/plain": [
       "array([[90, 47, 91, 46, 25],\n",
       "       [90, 90, 83, 13, 53],\n",
       "       [83, 35, 17, 89, 11],\n",
       "       [29, 97,  9, 27, 89],\n",
       "       [70,  0, 45, 73, 72]])"
      ]
     },
     "execution_count": 21,
     "metadata": {},
     "output_type": "execute_result"
    }
   ],
   "source": [
    "#Reshape method\n",
    "\n",
    "#reshape(rows,columns)....... We willl get an error if we cannot fill in completely\n",
    "\n",
    "ranarr.reshape(5,5)"
   ]
  },
  {
   "cell_type": "code",
   "execution_count": 22,
   "id": "7b59e510",
   "metadata": {},
   "outputs": [
    {
     "data": {
      "text/plain": [
       "array([90, 47, 91, 46, 25, 90, 90, 83, 13, 53, 83, 35, 17, 89, 11, 29, 97,\n",
       "        9, 27, 89, 70,  0, 45, 73, 72])"
      ]
     },
     "execution_count": 22,
     "metadata": {},
     "output_type": "execute_result"
    }
   ],
   "source": [
    "ranarr"
   ]
  },
  {
   "cell_type": "code",
   "execution_count": 23,
   "id": "c1f9fb68",
   "metadata": {},
   "outputs": [
    {
     "data": {
      "text/plain": [
       "97"
      ]
     },
     "execution_count": 23,
     "metadata": {},
     "output_type": "execute_result"
    }
   ],
   "source": [
    "#Finding max value in array\n",
    "\n",
    "#Similiarly min() for minimum value\n",
    "\n",
    "ranarr.max()"
   ]
  },
  {
   "cell_type": "code",
   "execution_count": 25,
   "id": "999ce00b",
   "metadata": {},
   "outputs": [
    {
     "data": {
      "text/plain": [
       "16"
      ]
     },
     "execution_count": 25,
     "metadata": {},
     "output_type": "execute_result"
    }
   ],
   "source": [
    "#To find the index value of the max value in our array.\n",
    "\n",
    "ranarr.argmax()"
   ]
  },
  {
   "cell_type": "code",
   "execution_count": 26,
   "id": "bd8ff495",
   "metadata": {},
   "outputs": [
    {
     "data": {
      "text/plain": [
       "21"
      ]
     },
     "execution_count": 26,
     "metadata": {},
     "output_type": "execute_result"
    }
   ],
   "source": [
    "#To find the index value of the min value in our array.\n",
    "\n",
    "ranarr.argmin()"
   ]
  },
  {
   "cell_type": "code",
   "execution_count": 29,
   "id": "a6995fad",
   "metadata": {},
   "outputs": [
    {
     "data": {
      "text/plain": [
       "(25,)"
      ]
     },
     "execution_count": 29,
     "metadata": {},
     "output_type": "execute_result"
    }
   ],
   "source": [
    "#To get the shape of the array use the shape() function.\n",
    "\n",
    "ranarr.shape\n",
    "\n",
    "#The below O/p shows us that the array is one dimensional "
   ]
  },
  {
   "cell_type": "code",
   "execution_count": 31,
   "id": "125d6086",
   "metadata": {},
   "outputs": [
    {
     "data": {
      "text/plain": [
       "array([[90, 47, 91, 46, 25],\n",
       "       [90, 90, 83, 13, 53],\n",
       "       [83, 35, 17, 89, 11],\n",
       "       [29, 97,  9, 27, 89],\n",
       "       [70,  0, 45, 73, 72]])"
      ]
     },
     "execution_count": 31,
     "metadata": {},
     "output_type": "execute_result"
    }
   ],
   "source": [
    "#Now to reshape the same array we need to use the reshape() function\n",
    "# reshape(column, row)\n",
    "\n",
    "ranarr = ranarr.reshape(5,5)\n",
    "ranarr\n",
    "\n",
    "#Notice that the array has been resized to a 5x5 matrix"
   ]
  },
  {
   "cell_type": "code",
   "execution_count": 33,
   "id": "f6a56ee2",
   "metadata": {},
   "outputs": [
    {
     "data": {
      "text/plain": [
       "dtype('int32')"
      ]
     },
     "execution_count": 33,
     "metadata": {},
     "output_type": "execute_result"
    }
   ],
   "source": [
    "#To check data type of any array, just use the dtype function\n",
    "\n",
    "ranarr.dtype"
   ]
  },
  {
   "cell_type": "markdown",
   "id": "77e410ce",
   "metadata": {},
   "source": [
    "#  NUMPY Indexing and Selection"
   ]
  },
  {
   "cell_type": "code",
   "execution_count": 38,
   "id": "d01c6ffd",
   "metadata": {},
   "outputs": [
    {
     "data": {
      "text/plain": [
       "array([ 0,  2,  4,  6,  8, 10, 12, 14, 16, 18, 20, 22, 24, 26, 28, 30])"
      ]
     },
     "execution_count": 38,
     "metadata": {},
     "output_type": "execute_result"
    }
   ],
   "source": [
    "\n",
    "arr = np.arange(0,31,2)\n",
    "arr"
   ]
  },
  {
   "cell_type": "code",
   "execution_count": 39,
   "id": "407b3093",
   "metadata": {},
   "outputs": [
    {
     "data": {
      "text/plain": [
       "6"
      ]
     },
     "execution_count": 39,
     "metadata": {},
     "output_type": "execute_result"
    }
   ],
   "source": [
    "#To get any element at a particular index just type the array name and the index inside[]\n",
    "\n",
    "arr[3]"
   ]
  },
  {
   "cell_type": "code",
   "execution_count": 41,
   "id": "4f3432aa",
   "metadata": {},
   "outputs": [
    {
     "data": {
      "text/plain": [
       "array([ 6,  8, 10, 12])"
      ]
     },
     "execution_count": 41,
     "metadata": {},
     "output_type": "execute_result"
    }
   ],
   "source": [
    "#To get a range of elements from an array, use the slicing like in python\n",
    "\n",
    "arr[3:7]"
   ]
  },
  {
   "cell_type": "code",
   "execution_count": 42,
   "id": "4871e3c6",
   "metadata": {},
   "outputs": [
    {
     "data": {
      "text/plain": [
       "array([ 0,  2,  4,  6,  8, 10, 12, 14])"
      ]
     },
     "execution_count": 42,
     "metadata": {},
     "output_type": "execute_result"
    }
   ],
   "source": [
    "#If we want everything upto a certain index, we can just put in the ending index value\n",
    "\n",
    "arr[ : 8]"
   ]
  },
  {
   "cell_type": "code",
   "execution_count": 43,
   "id": "fa978b82",
   "metadata": {},
   "outputs": [
    {
     "data": {
      "text/plain": [
       "array([18, 20, 22, 24, 26, 28, 30])"
      ]
     },
     "execution_count": 43,
     "metadata": {},
     "output_type": "execute_result"
    }
   ],
   "source": [
    "#If we want to get all elements till a certain element, do the following\n",
    "#Specify only first index : \n",
    "\n",
    "arr[9:]"
   ]
  },
  {
   "cell_type": "code",
   "execution_count": 44,
   "id": "6a699825",
   "metadata": {},
   "outputs": [
    {
     "data": {
      "text/plain": [
       "array([100, 100, 100, 100, 100,  10,  12,  14,  16,  18,  20,  22,  24,\n",
       "        26,  28,  30])"
      ]
     },
     "execution_count": 44,
     "metadata": {},
     "output_type": "execute_result"
    }
   ],
   "source": [
    "#Numpy arrays are differnet than Python arrays because of their ability to broad cast\n",
    "\n",
    "arr[0:5] = 100\n",
    "arr"
   ]
  },
  {
   "cell_type": "code",
   "execution_count": 46,
   "id": "ae58a17e",
   "metadata": {},
   "outputs": [
    {
     "data": {
      "text/plain": [
       "array([100, 100, 100, 100, 100,  10,  12,  14,  16,  18,  20,  22,  24,\n",
       "        26,  28,  30])"
      ]
     },
     "execution_count": 46,
     "metadata": {},
     "output_type": "execute_result"
    }
   ],
   "source": [
    "#Copy() function copies the whole array to a differnt array\n",
    "\n",
    "c_arr = arr.copy()\n",
    "c_arr"
   ]
  },
  {
   "cell_type": "markdown",
   "id": "e44e3155",
   "metadata": {},
   "source": [
    "# Indexing a 2D Array or Matrix"
   ]
  },
  {
   "cell_type": "code",
   "execution_count": 50,
   "id": "82d29427",
   "metadata": {},
   "outputs": [
    {
     "data": {
      "text/plain": [
       "array([[ 5, 10, 15],\n",
       "       [20, 25, 30],\n",
       "       [35, 40, 45]])"
      ]
     },
     "execution_count": 50,
     "metadata": {},
     "output_type": "execute_result"
    }
   ],
   "source": [
    "#Creating a 2D Array\n",
    "\n",
    "arr2d = np.array([[5,10,15],[20,25,30],[35,40,45]])\n",
    "arr2d"
   ]
  },
  {
   "cell_type": "code",
   "execution_count": 55,
   "id": "8ebe47f8",
   "metadata": {},
   "outputs": [
    {
     "data": {
      "text/plain": [
       "10"
      ]
     },
     "execution_count": 55,
     "metadata": {},
     "output_type": "execute_result"
    }
   ],
   "source": [
    "#Fetching values from 2D arrays\n",
    "\n",
    "# array_name[row][column]...... Note: Array indexing for rows and column starts from 0\n",
    "\n",
    "arr2d[0][1]\n",
    "\n",
    "#Above will return array from column with index 0 and row with index 1"
   ]
  },
  {
   "cell_type": "code",
   "execution_count": 61,
   "id": "f118ec43",
   "metadata": {},
   "outputs": [
    {
     "data": {
      "text/plain": [
       "array([ 5, 10, 15])"
      ]
     },
     "execution_count": 61,
     "metadata": {},
     "output_type": "execute_result"
    }
   ],
   "source": [
    "# to get the whole row \n",
    "arr2d[0]"
   ]
  },
  {
   "cell_type": "code",
   "execution_count": 62,
   "id": "a38bb9f5",
   "metadata": {},
   "outputs": [
    {
     "data": {
      "text/plain": [
       "array([[ 5, 10, 15],\n",
       "       [20, 25, 30],\n",
       "       [35, 40, 45]])"
      ]
     },
     "execution_count": 62,
     "metadata": {},
     "output_type": "execute_result"
    }
   ],
   "source": [
    "#Below is the single bracket notation\n",
    "arr2d"
   ]
  },
  {
   "cell_type": "code",
   "execution_count": 64,
   "id": "d9283687",
   "metadata": {},
   "outputs": [
    {
     "data": {
      "text/plain": [
       "30"
      ]
     },
     "execution_count": 64,
     "metadata": {},
     "output_type": "execute_result"
    }
   ],
   "source": [
    "#array_name[row,column]\n",
    "\n",
    "arr2d[1,2]"
   ]
  },
  {
   "cell_type": "markdown",
   "id": "c46d6d36",
   "metadata": {},
   "source": [
    "# Important"
   ]
  },
  {
   "cell_type": "code",
   "execution_count": 66,
   "id": "5bf9e447",
   "metadata": {},
   "outputs": [
    {
     "data": {
      "text/plain": [
       "array([[10, 15],\n",
       "       [25, 30]])"
      ]
     },
     "execution_count": 66,
     "metadata": {},
     "output_type": "execute_result"
    }
   ],
   "source": [
    "#USe the Slice notation to grab few other values from the matrix\n",
    "#Suppose we want to gerab 10,15 and 25,30\n",
    "\n",
    "arr2d[ :2,1: ]"
   ]
  },
  {
   "cell_type": "code",
   "execution_count": 67,
   "id": "a15cd04a",
   "metadata": {},
   "outputs": [
    {
     "data": {
      "text/plain": [
       "array([[ 5, 10, 15],\n",
       "       [20, 25, 30],\n",
       "       [35, 40, 45]])"
      ]
     },
     "execution_count": 67,
     "metadata": {},
     "output_type": "execute_result"
    }
   ],
   "source": [
    "arr2d"
   ]
  },
  {
   "cell_type": "code",
   "execution_count": 71,
   "id": "f0253a17",
   "metadata": {},
   "outputs": [
    {
     "data": {
      "text/plain": [
       "array([[ 5, 10, 15],\n",
       "       [20, 25, 30]])"
      ]
     },
     "execution_count": 71,
     "metadata": {},
     "output_type": "execute_result"
    }
   ],
   "source": [
    "arr2d[:2]"
   ]
  },
  {
   "cell_type": "markdown",
   "id": "5644827b",
   "metadata": {},
   "source": [
    "# Conditional Selection"
   ]
  },
  {
   "cell_type": "code",
   "execution_count": 73,
   "id": "ee3f43c5",
   "metadata": {},
   "outputs": [
    {
     "data": {
      "text/plain": [
       "array([ 1,  2,  3,  4,  5,  6,  7,  8,  9, 10])"
      ]
     },
     "execution_count": 73,
     "metadata": {},
     "output_type": "execute_result"
    }
   ],
   "source": [
    "arr = np.arange(1,11)\n",
    "arr"
   ]
  },
  {
   "cell_type": "code",
   "execution_count": 78,
   "id": "9b690182",
   "metadata": {},
   "outputs": [
    {
     "data": {
      "text/plain": [
       "array([False, False, False, False,  True,  True,  True,  True,  True,\n",
       "        True])"
      ]
     },
     "execution_count": 78,
     "metadata": {},
     "output_type": "execute_result"
    }
   ],
   "source": [
    "#Compare the array with any integer to get a boolean array\n",
    "\n",
    "bool_arr = arr > 4\n",
    "bool_arr"
   ]
  },
  {
   "cell_type": "code",
   "execution_count": 79,
   "id": "4a07ecd0",
   "metadata": {},
   "outputs": [
    {
     "data": {
      "text/plain": [
       "array([ 5,  6,  7,  8,  9, 10])"
      ]
     },
     "execution_count": 79,
     "metadata": {},
     "output_type": "execute_result"
    }
   ],
   "source": [
    "#We can use the boolean array to do conditional selection\n",
    "\n",
    "arr[bool_arr]"
   ]
  },
  {
   "cell_type": "code",
   "execution_count": 80,
   "id": "98b7fc86",
   "metadata": {},
   "outputs": [
    {
     "data": {
      "text/plain": [
       "array([ 6,  7,  8,  9, 10])"
      ]
     },
     "execution_count": 80,
     "metadata": {},
     "output_type": "execute_result"
    }
   ],
   "source": [
    "arr[arr>5]"
   ]
  },
  {
   "cell_type": "code",
   "execution_count": 81,
   "id": "3854778d",
   "metadata": {},
   "outputs": [
    {
     "data": {
      "text/plain": [
       "array([1, 2])"
      ]
     },
     "execution_count": 81,
     "metadata": {},
     "output_type": "execute_result"
    }
   ],
   "source": [
    "#Example all elements of array less than 3\n",
    "\n",
    "arr[arr<3]"
   ]
  },
  {
   "cell_type": "code",
   "execution_count": null,
   "id": "b6aaceec",
   "metadata": {},
   "outputs": [],
   "source": []
  }
 ],
 "metadata": {
  "kernelspec": {
   "display_name": "Python 3",
   "language": "python",
   "name": "python3"
  },
  "language_info": {
   "codemirror_mode": {
    "name": "ipython",
    "version": 3
   },
   "file_extension": ".py",
   "mimetype": "text/x-python",
   "name": "python",
   "nbconvert_exporter": "python",
   "pygments_lexer": "ipython3",
   "version": "3.8.8"
  }
 },
 "nbformat": 4,
 "nbformat_minor": 5
}
